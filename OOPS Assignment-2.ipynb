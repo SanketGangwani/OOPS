{
 "cells": [
  {
   "cell_type": "markdown",
   "id": "f834f7b1-9cbc-41f9-a4d1-9f976796ce0d",
   "metadata": {},
   "source": [
    "Q1. What is Abstraction in OOps? Explain with an example. "
   ]
  },
  {
   "cell_type": "markdown",
   "id": "e35eba40-1a2a-4db2-a157-ee790abb9159",
   "metadata": {},
   "source": [
    "Abstraction is an important concept in object oriented programming. Abstraction is the process of hiding the working or implementation of certain functionalities while allowing the users to use those functions and get the respective output. It uses abc module to make abstract class and abstract methods.\n",
    "Abstraction also implies compulsion so if a child class inherits an abstract class then the child class must define the abstractmethods written in parent class.\n",
    "\n",
    "Note:\n",
    "1. There must be atleast one abstractmethod inside abstract class otherwise it won't be treated as abstract class.\n",
    "2. You cannot create an object of the abstract class.\n",
    "\n",
    "For Eg:"
   ]
  },
  {
   "cell_type": "code",
   "execution_count": 1,
   "id": "49918e1a-2c42-4854-a7b2-f77cfde831e6",
   "metadata": {},
   "outputs": [
    {
     "ename": "TypeError",
     "evalue": "Can't instantiate abstract class app with abstract method security",
     "output_type": "error",
     "traceback": [
      "\u001b[0;31m---------------------------------------------------------------------------\u001b[0m",
      "\u001b[0;31mTypeError\u001b[0m                                 Traceback (most recent call last)",
      "Cell \u001b[0;32mIn[1], line 22\u001b[0m\n\u001b[1;32m     16\u001b[0m         \u001b[38;5;28;01mreturn\u001b[39;00m \u001b[38;5;124m'\u001b[39m\u001b[38;5;124mI am app\u001b[39m\u001b[38;5;124m'\u001b[39m\n\u001b[1;32m     19\u001b[0m \u001b[38;5;124;03m'''\u001b[39;00m\n\u001b[1;32m     20\u001b[0m \u001b[38;5;124;03mNow if I'll try to create an object of app class, it will show an error since I have not defined the abstract method security inside my child class.\u001b[39;00m\n\u001b[1;32m     21\u001b[0m \u001b[38;5;124;03m'''\u001b[39;00m\n\u001b[0;32m---> 22\u001b[0m obj \u001b[38;5;241m=\u001b[39m \u001b[43mapp\u001b[49m\u001b[43m(\u001b[49m\u001b[43m)\u001b[49m\n",
      "\u001b[0;31mTypeError\u001b[0m: Can't instantiate abstract class app with abstract method security"
     ]
    }
   ],
   "source": [
    "from abc import ABC, abstractmethod\n",
    "\n",
    "class Bank(ABC):\n",
    "    \n",
    "    def database(self):\n",
    "        return 'This is the database of our bank'\n",
    "    \n",
    "    @abstractmethod\n",
    "    def security(self):\n",
    "        pass\n",
    "    \n",
    "    \n",
    "class app(Bank):\n",
    "    \n",
    "    def app(self):\n",
    "        return 'I am app'\n",
    "    \n",
    "    \n",
    "'''\n",
    "Now if I'll try to create an object of app class, it will show an error since I have not defined the abstract method security inside my child class.\n",
    "'''\n",
    "obj = app()"
   ]
  },
  {
   "cell_type": "code",
   "execution_count": 2,
   "id": "c8287f83-8656-42e2-a454-3a5265bc512c",
   "metadata": {},
   "outputs": [
    {
     "name": "stdout",
     "output_type": "stream",
     "text": [
      "This app is now secured\n"
     ]
    }
   ],
   "source": [
    "class app(Bank):\n",
    "    \n",
    "    def app(self):\n",
    "        return 'I am app'\n",
    "\n",
    "    def security(self):\n",
    "        return 'This app is now secured'\n",
    "    \n",
    "    \n",
    "'''\n",
    "Now if I'll try to create an object, it won't throw any error.\n",
    "'''\n",
    "\n",
    "obj = app()\n",
    "print(obj.security())"
   ]
  },
  {
   "cell_type": "markdown",
   "id": "ac0dfc5e-9cc9-4cfc-9485-fc0fc48c053b",
   "metadata": {},
   "source": [
    "Q2. Differentiate between Abstraction and Encapsulation. Explain with an example. "
   ]
  },
  {
   "cell_type": "markdown",
   "id": "d7c00869-556b-4926-89ad-601b8fbbf9cb",
   "metadata": {},
   "source": [
    "Abstaction:\n",
    "\n",
    "1. Abstraction is the process of hiding the working or implementation of certain functionalities while allowing the users to use those functions and get the respective output.\n",
    "\n",
    "2. It works on interface level.\n",
    "\n",
    "3. Abstraction is achieved by using ABC class and abstractmethod from abc module.\n",
    "\n",
    "\n",
    "Encapsulation:\n",
    "\n",
    "1. Wrapping up of data,methods,attributes in a single unit known as class is known as Encapsulation.\n",
    "\n",
    "2. It works on implementation level.\n",
    "\n",
    "3. Encapsulation is achieved by using acces modifiers [public, protected( _ ), private( __ )]"
   ]
  },
  {
   "cell_type": "code",
   "execution_count": 3,
   "id": "2135308c-f83e-42a9-b09f-9b60f9ecf7be",
   "metadata": {},
   "outputs": [],
   "source": [
    "# Abstraction:\n",
    "import abc\n",
    "\n",
    "class Vehicle(abc.ABC):\n",
    "    \n",
    "    @abc.abstractmethod\n",
    "    def speed(self):\n",
    "        pass\n",
    "    \n",
    "    \n",
    "# Encapsulation:\n",
    "class Bank:\n",
    "    \n",
    "    branch_name = 'Mumbai'                                                     # Class variable\n",
    "    \n",
    "    def welcome(self):\n",
    "        return 'Welcome to our Bank'                                           # Public\n",
    "    \n",
    "    def __init__(self,name,balance):\n",
    "        self._name = name                                                      # Protected\n",
    "        self.__balance = balance                                               # Private"
   ]
  },
  {
   "cell_type": "markdown",
   "id": "d663824b-fed0-4366-b124-baff68055f43",
   "metadata": {},
   "source": [
    "Q3. What is abc module in python? Why is it used? "
   ]
  },
  {
   "cell_type": "markdown",
   "id": "b00ff078-8717-424a-a6ee-e6334f805fcb",
   "metadata": {},
   "source": [
    "Abstract Base Class module is a module in python that is used to make a class as abstract class.\n",
    "It involves certain classes and functions like 'ABC' class and 'abstractmethod' through which you can make abstract class and abstract methods.\n",
    "\n",
    "And since python doesn't have any inbuilt provision for abstraction, we use abc module to achieve concepts of abstraction in python."
   ]
  },
  {
   "cell_type": "markdown",
   "id": "b001dc3a-52f4-4d08-bc80-076b8fac4d3c",
   "metadata": {},
   "source": [
    "Q4. How can we achieve data abstraction? "
   ]
  },
  {
   "cell_type": "markdown",
   "id": "1ca8a4e3-2b92-4f87-be74-095db4be5957",
   "metadata": {},
   "source": [
    "In Python, we can achieve data abstraction by using abstract class and abstract methods and since python doesn't have any in built technique to make abstract class or abstract methods, we use abc module.\n",
    "\n",
    "You can make a class as abstract class by inheriting it with ABC class present in abc module along with that you also need atleast one abstract method inside your abstract class and you can make a method as abstract method by using abstractmethod decorator.\n",
    "\n",
    "Note: abstract methods should not have body and should be made by using pass as body.\n",
    "\n",
    "For Eg:"
   ]
  },
  {
   "cell_type": "code",
   "execution_count": 4,
   "id": "b3d3c874-d4e4-41a8-a0dd-c6f4531ca4ea",
   "metadata": {},
   "outputs": [],
   "source": [
    "from abc import ABC, abstractmethod\n",
    "\n",
    "class Bank(ABC):\n",
    "    \n",
    "    @abstractmethod\n",
    "    def security(self):\n",
    "        pass"
   ]
  },
  {
   "cell_type": "markdown",
   "id": "7aa46702-1207-401c-828b-16eb36edec3a",
   "metadata": {},
   "source": [
    "Q5. Can we create an instance of an abstract class? Explain your answer. "
   ]
  },
  {
   "cell_type": "markdown",
   "id": "9cfb9b36-1878-45fd-bf00-1ff2f87b67d2",
   "metadata": {},
   "source": [
    "No, we cannot create an instance of an abstract class. And if we try to do so then we will get an error stating that \n",
    "\"Can't instantiate abstract class ... with abstract method ...\"\n",
    "\n",
    "This is because abstraction is used to hide irrelevant data from the user, so allowing user to make object of an abstract class will allow access to the class and it's methods which a user can change which will disrupt the objective of abstraction. Along with that abstract methods doesn't have any body so even if an object is created of an abstract class then their method won't have any implementation to invoke."
   ]
  }
 ],
 "metadata": {
  "kernelspec": {
   "display_name": "Python 3 (ipykernel)",
   "language": "python",
   "name": "python3"
  },
  "language_info": {
   "codemirror_mode": {
    "name": "ipython",
    "version": 3
   },
   "file_extension": ".py",
   "mimetype": "text/x-python",
   "name": "python",
   "nbconvert_exporter": "python",
   "pygments_lexer": "ipython3",
   "version": "3.10.8"
  }
 },
 "nbformat": 4,
 "nbformat_minor": 5
}
