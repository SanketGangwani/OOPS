{
 "cells": [
  {
   "cell_type": "markdown",
   "id": "913d0887-1b5c-4373-84fc-dd7a754ba807",
   "metadata": {},
   "source": [
    "Q1. Explain Class and Object with respect to Object-Oriented Programming. Give a suitable example."
   ]
  },
  {
   "cell_type": "markdown",
   "id": "a2381666-986a-4638-8d84-728b0693e673",
   "metadata": {},
   "source": [
    "Class:\n",
    "1. A class in Object Oriented Programming can be defined as a skelton or a blueprint that involves all the essential methods, variables or attributes for a specific use case. Using concept of class can help coders to present there codes in a much efficient manner by which they can improve their coding techniques.\n",
    "\n",
    "2. Class in OOPS can also be beneficial since it makes other coders to visit the code and have a better understanding of the entire program.\n",
    "\n",
    "Object:\n",
    "1. Object can be defined as individual identities of a particular class.\n",
    "\n",
    "2. These objects contain actual values, attributes and methods defined in class and since class skelton is same, the object information may be different but their actual implemnetation follows a particular flow according to class."
   ]
  },
  {
   "cell_type": "code",
   "execution_count": 1,
   "id": "ff08cd59-de20-40f1-a66b-56085e8b4826",
   "metadata": {},
   "outputs": [
    {
     "name": "stdout",
     "output_type": "stream",
     "text": [
      "Welcome to PWskills\n"
     ]
    }
   ],
   "source": [
    "class Pwskills:                                                     # Class\n",
    "    \n",
    "    def __init__(self):\n",
    "        print('Welcome to PWskills')\n",
    "    \n",
    "sanket = Pwskills()                                                 # Object"
   ]
  },
  {
   "cell_type": "markdown",
   "id": "52e20fa7-effd-403e-9da9-f5c4b3567a96",
   "metadata": {},
   "source": [
    "Q2. Name the four pillars of OOPs."
   ]
  },
  {
   "cell_type": "markdown",
   "id": "8f3714ba-52e9-4da0-8c93-13c12e5f14f2",
   "metadata": {},
   "source": [
    "OOPs:\n",
    "Generally in python, we follow two types of programming\n",
    "\n",
    "* Procedural Programming\n",
    "* Object Oriented Programming (OOPs) \n",
    "\n",
    "1. Procedural Programming:\n",
    "Procedural programming involves list of instructions to tell the computer what it should do step by step to complete a task.\n",
    "\n",
    "2. Object Oriented Programming (OOPs):\n",
    "Object Oriented Programming can be defined as a programming model which is based upon the concept of class and objects where class is a blueprint or a template of a real life entity and object is the real life entity that stores actual values.\n",
    "\n",
    "The main 4 pillars of OOPs are:\n",
    "\n",
    "* Inheritance\n",
    "* Polymorphism\n",
    "* Abstraction\n",
    "* Encapsulation\n",
    "\n",
    "1. Inheritance:\n",
    "Inheritance is a concept in object oriented programming through which a child class can be derived or inherited from parent class through which attributes,methods defined in parent class can be accessed in object of child class too.\n",
    "\n",
    "2. Polymorphism:\n",
    "Polymorphism can be defined as a function or a method that can perform differently in different scenarios. For Eg: If a class has a method add that uses __add__ method using \"+\" operator then that method will add two integers like 5+2=7 but at the same time will concatenate two strings '1'+'2' = 12. So add method behaves differently for different inputs.\n",
    "\n",
    "3. Abstraction:\n",
    "Abstraction is an important concept in object oriented programming. Abstraction is the process of hiding the working or implementation of certain functionalities while allowing the users to use those functions and get the respective output. It uses abc module to make abstract class and abstract methods.\n",
    "Abstraction also implies compulsion so if a child class inherits an abstract class then the child class must define the abstractmethods written in parent class.\n",
    "\n",
    "4. Encapsulation:\n",
    "Wrapping up of data,methods,attributes in a single unit known as class is known as Encapsulation. It also involves hiding certain methods or attributes using acces modifiers ( Public, Private - Using double underscores , Protected - Using single underscore)  "
   ]
  },
  {
   "cell_type": "markdown",
   "id": "91bab191-e4c1-4dc5-818e-0f0dfa042d84",
   "metadata": {},
   "source": [
    "Q3. Explain why the __init__() function is used. Give a suitable example."
   ]
  },
  {
   "cell_type": "markdown",
   "id": "8b3ae7eb-0384-4694-bbf5-36165ee2111c",
   "metadata": {},
   "source": [
    "* OOPs programming is based on class and objects and if you want to make a class that should take certain arguments or information from the user for an object then in such cases you use __init__() method.\n",
    "* The __init__() method also known as Constructor allows a programmer to define a class where a user can pass certain arguments while creating an object or instance of that particular class. Also it can be used in scenarios where you want a particular instance of a class to have some default variables as soon as instance is created.\n",
    "\n",
    "Following is the example of init():"
   ]
  },
  {
   "cell_type": "code",
   "execution_count": 2,
   "id": "dda83a27-7910-4ec4-a860-9a74828c0275",
   "metadata": {},
   "outputs": [
    {
     "name": "stdout",
     "output_type": "stream",
     "text": [
      "Default variable: Data Science Masters 2.0\n",
      "Arguments : Sanket Gangwnai & sanketgangwani@gmail.com\n"
     ]
    }
   ],
   "source": [
    "class Pwskills:\n",
    "    \n",
    "    def __init__(self,name,email):                                   # Will take name and email as arguments\n",
    "        self.name = name                                                 \n",
    "        self.email = email\n",
    "        self.course = 'Data Science Masters 2.0'                     # Assigning default variable for every instance\n",
    "\n",
    "sanket = Pwskills('Sanket Gangwnai','sanketgangwani@gmail.com')\n",
    "\n",
    "\n",
    "'''\n",
    "Now here you will see that though I have not passed course as an argument while creating object, I am still able to fetch course name.\n",
    "And along with that I am also able to pass and fetch arguments in an object.\n",
    "'''\n",
    "print('Default variable:',sanket.course)\n",
    "print('Arguments :', sanket.name,'&', sanket.email)"
   ]
  },
  {
   "cell_type": "markdown",
   "id": "b5b1be9c-d8fb-4f95-bc30-0b1479366c16",
   "metadata": {},
   "source": [
    "Q4. Why self is used in OOPs? "
   ]
  },
  {
   "cell_type": "markdown",
   "id": "2dcc3a87-3374-45e9-b5e1-6ac4798e02d1",
   "metadata": {},
   "source": [
    "* While creating a class, you might want do define some methods or functions inside a class and those functions should perform some operations on objects of that class.\n",
    "* So self is passed as the first argument in methods defined inside the class so as to bind the instance and the instance methods directly with class. Absence of which will not allow instances to operate on those methods."
   ]
  },
  {
   "cell_type": "code",
   "execution_count": 3,
   "id": "d715073a-242b-4b7e-9138-be098f0abe99",
   "metadata": {},
   "outputs": [],
   "source": [
    "class Emp:\n",
    "    \n",
    "    def hello():\n",
    "        return 'Hello World'"
   ]
  },
  {
   "cell_type": "code",
   "execution_count": 4,
   "id": "2489b287-d085-4ea5-b33a-75e3b2212f08",
   "metadata": {},
   "outputs": [
    {
     "ename": "TypeError",
     "evalue": "Emp.hello() takes 0 positional arguments but 1 was given",
     "output_type": "error",
     "traceback": [
      "\u001b[0;31m---------------------------------------------------------------------------\u001b[0m",
      "\u001b[0;31mTypeError\u001b[0m                                 Traceback (most recent call last)",
      "Cell \u001b[0;32mIn[4], line 3\u001b[0m\n\u001b[1;32m      1\u001b[0m sanket \u001b[38;5;241m=\u001b[39m Emp()\n\u001b[0;32m----> 3\u001b[0m \u001b[43msanket\u001b[49m\u001b[38;5;241;43m.\u001b[39;49m\u001b[43mhello\u001b[49m\u001b[43m(\u001b[49m\u001b[43m)\u001b[49m\n",
      "\u001b[0;31mTypeError\u001b[0m: Emp.hello() takes 0 positional arguments but 1 was given"
     ]
    }
   ],
   "source": [
    "sanket = Emp()\n",
    "\n",
    "sanket.hello()"
   ]
  },
  {
   "cell_type": "code",
   "execution_count": 5,
   "id": "00bebc1a-37cc-4142-85da-639c82969ba5",
   "metadata": {},
   "outputs": [
    {
     "ename": "TypeError",
     "evalue": "Emp.hello() takes 0 positional arguments but 1 was given",
     "output_type": "error",
     "traceback": [
      "\u001b[0;31m---------------------------------------------------------------------------\u001b[0m",
      "\u001b[0;31mTypeError\u001b[0m                                 Traceback (most recent call last)",
      "Cell \u001b[0;32mIn[5], line 3\u001b[0m\n\u001b[1;32m      1\u001b[0m \u001b[38;5;124;03m''' Here we can see that an error has occured when we try to execute a method without self because internally the code running is:'''\u001b[39;00m\n\u001b[0;32m----> 3\u001b[0m \u001b[43mEmp\u001b[49m\u001b[38;5;241;43m.\u001b[39;49m\u001b[43mhello\u001b[49m\u001b[43m(\u001b[49m\u001b[43msanket\u001b[49m\u001b[43m)\u001b[49m\n",
      "\u001b[0;31mTypeError\u001b[0m: Emp.hello() takes 0 positional arguments but 1 was given"
     ]
    }
   ],
   "source": [
    "''' Here we can see that an error has occured when we try to execute a method without self because internally the code running is:'''\n",
    "\n",
    "Emp.hello(sanket)"
   ]
  },
  {
   "cell_type": "code",
   "execution_count": 6,
   "id": "330105e5-cf75-4f7c-85a6-d6c60382c2da",
   "metadata": {},
   "outputs": [],
   "source": [
    "'''Hence to solve this we need to bind this method with class by:'''\n",
    "\n",
    "class Emp:\n",
    "    \n",
    "    def hello(self):\n",
    "        print('Hello World')"
   ]
  },
  {
   "cell_type": "code",
   "execution_count": 7,
   "id": "a8e2c243-0b23-41cc-b471-13713c84ab80",
   "metadata": {},
   "outputs": [
    {
     "name": "stdout",
     "output_type": "stream",
     "text": [
      "Hello World\n"
     ]
    }
   ],
   "source": [
    "sanket = Emp()\n",
    "\n",
    "'''\n",
    "Here you can see that the code is running without any error\n",
    "Please Note: The self word is not reserved in python you can use any word instead of self\n",
    "'''\n",
    "\n",
    "Emp.hello(sanket)"
   ]
  },
  {
   "cell_type": "markdown",
   "id": "6965cf13-5124-434f-8c15-9c043a99c910",
   "metadata": {},
   "source": [
    "Q5. What is inheritance? Give an example for each type of inheritance.  "
   ]
  },
  {
   "cell_type": "markdown",
   "id": "55f3961f-053b-49fb-9a84-edaebb8fabbc",
   "metadata": {},
   "source": [
    "* Inheritance is an important pillar of object oriented programming that helps us to create child class from parent class.\n",
    "* There might be some situation where you want to create a classs that should contain attributes and methods that are already defined in another class. So to avoid re-writing of code and to enhance code reusability we can apply concept of Inheritance.\n",
    "* There are multiple types of Inheritance in Python\n",
    "\n",
    "1. Simple/Single Inheritance\n",
    "2. Multiple Inheritance\n",
    "3. Multilevel Inheritance"
   ]
  },
  {
   "cell_type": "code",
   "execution_count": 8,
   "id": "129a5ceb-b79c-4e73-82d1-be2842c9dcb3",
   "metadata": {},
   "outputs": [
    {
     "name": "stdout",
     "output_type": "stream",
     "text": [
      "I am child class\n",
      "I am parent class\n"
     ]
    }
   ],
   "source": [
    "'''\n",
    "Simple/Single Inheritance:\n",
    "If a child class inherits methods and attributes from a single parent class then such inheritance will be termed as Single Inheritance.\n",
    "'''\n",
    "\n",
    "class parent:\n",
    "    \n",
    "    def parent_info(self):\n",
    "        return 'I am parent class'\n",
    "    \n",
    "    \n",
    "class child(parent):\n",
    "    \n",
    "    def child_info(self):\n",
    "        return 'I am child class'\n",
    "    \n",
    "'''\n",
    "So now if a object is created of child class then that object will have methods of both.\n",
    "So it will have it's own methods as well as it will have parent class methods.\n",
    "'''\n",
    "\n",
    "a = child()\n",
    "print(a.child_info())                           # Child class method\n",
    "print(a.parent_info())                          # Parent class method"
   ]
  },
  {
   "cell_type": "code",
   "execution_count": 9,
   "id": "8f0e87e1-8041-4b6b-9453-283d91d799b7",
   "metadata": {},
   "outputs": [
    {
     "name": "stdout",
     "output_type": "stream",
     "text": [
      "I have knowledge of Machine Learning\n",
      "I have knowledge of Data Analysis\n"
     ]
    }
   ],
   "source": [
    "'''\n",
    "Multiple Inheritance:\n",
    "If a child class inherits methods and attributes from more then one parent class then such inheritance will be termed as Multiple Inheritance.\n",
    "'''\n",
    "\n",
    "class ML:\n",
    "    \n",
    "    def ml_knowledge(self):\n",
    "        return 'I have knowledge of Machine Learning'\n",
    "\n",
    "class DA:\n",
    "    \n",
    "    def da_knowledge(self):\n",
    "        return 'I have knowledge of Data Analysis'\n",
    "\n",
    "\n",
    "class DS(ML,DA):\n",
    "    \n",
    "    pass\n",
    "\n",
    "\n",
    "'''\n",
    "Now though I have not defined anything inside my DS class, the object of DS class will have mrthods defined in ML and DA class\n",
    "'''\n",
    "\n",
    "data = DS()\n",
    "\n",
    "print(data.ml_knowledge())                  \n",
    "print(data.da_knowledge())"
   ]
  },
  {
   "cell_type": "code",
   "execution_count": 10,
   "id": "fb60de2a-9b70-4652-998e-2a2a76bba89e",
   "metadata": {},
   "outputs": [
    {
     "name": "stdout",
     "output_type": "stream",
     "text": [
      "I am grandfather\n",
      "I am father\n",
      "I am child\n"
     ]
    }
   ],
   "source": [
    "'''\n",
    "Multilevel Inheritance:\n",
    "Multilevel Inheritance can be termed as a class that inherits a class which inherits another class.\n",
    "'''\n",
    "\n",
    "class grandfather:\n",
    "\n",
    "    def grandpa_info(self):\n",
    "        return 'I am grandfather'\n",
    "    \n",
    "class father(grandfather):\n",
    "    \n",
    "    def father_info(self):\n",
    "        return 'I am father'\n",
    "    \n",
    "class child(father):\n",
    "        \n",
    "    def child_info(self):\n",
    "        return 'I am child'\n",
    "    \n",
    "'''\n",
    "Now if an object is created of child class then that object will have it's own method along with the father class method.\n",
    "And since the father class inherits grandfather class, it will have grandfather class method which will ultimatley show very method in child class.\n",
    "'''\n",
    "\n",
    "sanket = child()\n",
    "\n",
    "print(sanket.grandpa_info())\n",
    "print(sanket.father_info())\n",
    "print(sanket.child_info())"
   ]
  }
 ],
 "metadata": {
  "kernelspec": {
   "display_name": "Python 3 (ipykernel)",
   "language": "python",
   "name": "python3"
  },
  "language_info": {
   "codemirror_mode": {
    "name": "ipython",
    "version": 3
   },
   "file_extension": ".py",
   "mimetype": "text/x-python",
   "name": "python",
   "nbconvert_exporter": "python",
   "pygments_lexer": "ipython3",
   "version": "3.10.8"
  }
 },
 "nbformat": 4,
 "nbformat_minor": 5
}
