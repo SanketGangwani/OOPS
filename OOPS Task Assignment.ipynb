{
 "cells": [
  {
   "cell_type": "markdown",
   "id": "46550ac8-b492-4bad-8e87-515abad60fce",
   "metadata": {},
   "source": [
    "Q1. Create a vehicle class with an init method having instance variables as name_of_vehicle, max_speed\n",
    "and average_of_vehicle."
   ]
  },
  {
   "cell_type": "code",
   "execution_count": 1,
   "id": "027c6524-7efa-4f88-8dee-759e677f93de",
   "metadata": {},
   "outputs": [],
   "source": [
    "# Creating class \n",
    "class vehicle:\n",
    "    def __init__(self,name,speed,average):\n",
    "        self.name_of_vehicle = name\n",
    "        self.max_speed = speed\n",
    "        self.average_of_vehicle = average\n",
    "        \n",
    "    def showdetails(self):\n",
    "        return f'The name of the vehicle is {self.name_of_vehicle} with maximum speed {self.max_speed} and an average of {self.average_of_vehicle}'"
   ]
  },
  {
   "cell_type": "code",
   "execution_count": 2,
   "id": "a7a53b06-89b4-4231-a10c-10e38b367bbf",
   "metadata": {},
   "outputs": [],
   "source": [
    "# Creating object of the vehicle class\n",
    "bugatti = vehicle('Bugatti Chiron','400 km/hr','10 km')"
   ]
  },
  {
   "cell_type": "code",
   "execution_count": 3,
   "id": "0f1ec6bb-1340-4a5d-95f7-6ac688a65902",
   "metadata": {},
   "outputs": [
    {
     "data": {
      "text/plain": [
       "'The name of the vehicle is Bugatti Chiron with maximum speed 400 km/hr and an average of 10 km'"
      ]
     },
     "execution_count": 3,
     "metadata": {},
     "output_type": "execute_result"
    }
   ],
   "source": [
    "# Fetching object details\n",
    "bugatti.showdetails()"
   ]
  },
  {
   "cell_type": "markdown",
   "id": "67baccc9-5dbe-49a6-845c-acc55437f4be",
   "metadata": {},
   "source": [
    "Q2. Create a child class car from the vehicle class created in Que 1, which will inherit the vehicle class.\n",
    "\n",
    "Create a method named seating_capacity which takes capacity as an argument and returns the name of\n",
    "the vehicle and its seating capacity. "
   ]
  },
  {
   "cell_type": "code",
   "execution_count": 4,
   "id": "88283414-b0c9-4212-af53-93def956da77",
   "metadata": {},
   "outputs": [],
   "source": [
    "# Using single inheritance to inherit child class from parent class (vehicle)\n",
    "class child(vehicle):\n",
    "    def seating_capacity(self,capacity):\n",
    "        self.capacity = capacity\n",
    "        \n",
    "        return f'Name of the Vehicle is {self.name_of_vehicle} and it\\'s total seating capacity is {self.capacity}'"
   ]
  },
  {
   "cell_type": "code",
   "execution_count": 5,
   "id": "3867aa4e-15db-4ea5-a086-725f0a16b82c",
   "metadata": {},
   "outputs": [],
   "source": [
    "bugatti = child('Bugatti Chiron','400 km/hr','10 km')"
   ]
  },
  {
   "cell_type": "code",
   "execution_count": 6,
   "id": "7937cb55-c473-4d31-af4b-d4f8a95c829f",
   "metadata": {},
   "outputs": [
    {
     "data": {
      "text/plain": [
       "\"Name of the Vehicle is Bugatti Chiron and it's total seating capacity is 2\""
      ]
     },
     "execution_count": 6,
     "metadata": {},
     "output_type": "execute_result"
    }
   ],
   "source": [
    "bugatti.seating_capacity(2)"
   ]
  },
  {
   "cell_type": "markdown",
   "id": "050fe736-e79a-4957-a86b-9cacd327dcfa",
   "metadata": {},
   "source": [
    "\n",
    "Q3. What is multiple inheritance? Write a python code to demonstrate multiple inheritance.\n"
   ]
  },
  {
   "cell_type": "code",
   "execution_count": 7,
   "id": "8f52106b-2a8b-41b8-8d32-4ae07456935c",
   "metadata": {},
   "outputs": [],
   "source": [
    "'''\n",
    "In Python, Inheritance is a feature of OOPS.\n",
    "It provides a facility through which proprties/methods/functions/variables defined in one class(parent) can directly be accessed in other class(child).\n",
    "There are mainly two types of Inheritance viz. Multiple Inheritance and Multi Level Inheritance\n",
    "\n",
    "Multiple Inheritance:\n",
    "When a child class inherits properties/methods from two or more parent class then such type of inheritance can be termed as Multiple Inheritance.\n",
    "'''\n",
    "class first:\n",
    "    def firstmethod(self):\n",
    "        return 'I am function of First Class'\n",
    "    \n",
    "class second:\n",
    "    def secondmethod(self):\n",
    "        return 'I am function of Second Class'\n",
    "\n",
    "class muliple(first,second):\n",
    "    pass"
   ]
  },
  {
   "cell_type": "code",
   "execution_count": 8,
   "id": "2a542474-78f3-4234-b28b-a67190b2d902",
   "metadata": {},
   "outputs": [],
   "source": [
    "a = muliple()"
   ]
  },
  {
   "cell_type": "code",
   "execution_count": 9,
   "id": "25a5b6f3-1503-460a-9dd5-aec35e3fb590",
   "metadata": {},
   "outputs": [
    {
     "name": "stdout",
     "output_type": "stream",
     "text": [
      "Method inherited from first class: I am function of First Class,\n",
      "Method inherited from second class: I am function of Second Class\n"
     ]
    }
   ],
   "source": [
    "'''\n",
    "Here, we can see that though my multiple class doesn't have any defined methods inside it, \n",
    "But since it inherits from two parent class first and second,the methods defined in those class can be accessed in child class(multiple)\n",
    "'''\n",
    "print(f'Method inherited from first class: {a.firstmethod()},\\nMethod inherited from second class: {a.secondmethod()}')"
   ]
  },
  {
   "cell_type": "markdown",
   "id": "a4fd39e3-819d-4e44-8ca0-cbe037d934af",
   "metadata": {},
   "source": [
    "\n",
    "Q4. What are getter and setter in python? Create a class and create a getter and a setter method in this\n",
    "class.\n",
    " "
   ]
  },
  {
   "cell_type": "code",
   "execution_count": 10,
   "id": "b14fc822-78ae-4149-8763-247ea8a35b2c",
   "metadata": {},
   "outputs": [],
   "source": [
    "'''\n",
    "Getter and Setter:\n",
    "Getter and Setter are methods through which we can access and manipulate the non public attributes present inside a class.\n",
    "\n",
    "Getter:\n",
    "Getter is a method through which we can access or see the value of the protected/private class attributes\n",
    "Getter can be defined using property decorator [@property] before defining the method\n",
    "\n",
    "Setter:\n",
    "Setter is the method that allows you to manipulate the private/protected attributes.\n",
    "Setter is the extension of Getter since we use the name of method where @property decorator is used and we just write .setter after that. \n",
    "'''\n",
    "\n",
    "class Bank:\n",
    "    _branch = 'Unr'\n",
    "    def __init__(self,name,balance):\n",
    "        self.__name = name                             # Private\n",
    "        self._balance = balance                        # Protected\n",
    "    \n",
    "    @property\n",
    "    def showdetails(self):\n",
    "        return self.__name,self._balance\n",
    "    \n",
    "    @showdetails.setter\n",
    "    def updatebalance(self,value):\n",
    "        self._balance = value\n",
    "    "
   ]
  },
  {
   "cell_type": "code",
   "execution_count": 11,
   "id": "cb8b153f-afa3-4282-ad75-e5c57cc3f2f1",
   "metadata": {},
   "outputs": [],
   "source": [
    "a = Bank('Sanket',300)"
   ]
  },
  {
   "cell_type": "code",
   "execution_count": 12,
   "id": "1eb8b351-fed1-4d6e-9175-d4074fa00ced",
   "metadata": {},
   "outputs": [
    {
     "data": {
      "text/plain": [
       "('Sanket', 300)"
      ]
     },
     "execution_count": 12,
     "metadata": {},
     "output_type": "execute_result"
    }
   ],
   "source": [
    "'''\n",
    "Here, we can see that using property decorator we can easily access the private/protected attributes present inside the class.\n",
    "'''\n",
    "a.showdetails"
   ]
  },
  {
   "cell_type": "code",
   "execution_count": 13,
   "id": "dddd9fb2-5d05-4170-9739-56fa3505ac7d",
   "metadata": {},
   "outputs": [],
   "source": [
    "'''\n",
    "Here, we can see that using setter function we can directly update or manipulate private/protected attributes\n",
    "'''\n",
    "a.updatebalance = 100"
   ]
  },
  {
   "cell_type": "code",
   "execution_count": 14,
   "id": "835f09c9-136f-4572-9df9-bfd9ab6fe97b",
   "metadata": {},
   "outputs": [
    {
     "data": {
      "text/plain": [
       "('Sanket', 100)"
      ]
     },
     "execution_count": 14,
     "metadata": {},
     "output_type": "execute_result"
    }
   ],
   "source": [
    "# This will now show the updated value that we set by using setter\n",
    "a.showdetails"
   ]
  },
  {
   "cell_type": "markdown",
   "id": "76279def-914a-4b48-964d-96d4f1248d44",
   "metadata": {},
   "source": [
    "\n",
    "Q5.What is method overriding in python? Write a python code to demonstrate method overriding. "
   ]
  },
  {
   "cell_type": "code",
   "execution_count": 15,
   "id": "0852be06-797d-4bac-a95a-1fd0133e05c4",
   "metadata": {},
   "outputs": [],
   "source": [
    "'''\n",
    "Method Overriding is a feature through which we can modify the parent class methods inside the child class.\n",
    "'''\n",
    "\n",
    "\n",
    "class parent:                                                 # Initializing Parent class\n",
    "    \n",
    "    def __init__(self,value):\n",
    "        self.value = value\n",
    "        \n",
    "    def area(self):\n",
    "        return self.value\n",
    "\n",
    "class circle(parent):                                         # Inheriting from parent class\n",
    "    \n",
    "    def area(self):          \n",
    "        return super().area()**2 * 3.142                  # Modifying parent class method inside child class\n",
    "        "
   ]
  },
  {
   "cell_type": "code",
   "execution_count": 16,
   "id": "b119a5f7-f708-45da-9646-0962e334f31f",
   "metadata": {},
   "outputs": [
    {
     "name": "stdout",
     "output_type": "stream",
     "text": [
      "Parent Class:  5\n",
      "Child Class:  78.55\n"
     ]
    }
   ],
   "source": [
    "# Making an object of parent class\n",
    "a = parent(5)\n",
    "\n",
    "# Output from method of parent class\n",
    "print('Parent Class: ',a.area())\n",
    "\n",
    "# Making  an object of inherited class\n",
    "b = circle(5)\n",
    "\n",
    "# Output from method of inherited class\n",
    "print('Child Class: ',b.area())"
   ]
  }
 ],
 "metadata": {
  "kernelspec": {
   "display_name": "Python 3 (ipykernel)",
   "language": "python",
   "name": "python3"
  },
  "language_info": {
   "codemirror_mode": {
    "name": "ipython",
    "version": 3
   },
   "file_extension": ".py",
   "mimetype": "text/x-python",
   "name": "python",
   "nbconvert_exporter": "python",
   "pygments_lexer": "ipython3",
   "version": "3.10.8"
  }
 },
 "nbformat": 4,
 "nbformat_minor": 5
}
